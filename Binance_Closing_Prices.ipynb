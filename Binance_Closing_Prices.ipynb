{
 "cells": [
  {
   "cell_type": "code",
   "execution_count": 1,
   "id": "2c010c64",
   "metadata": {},
   "outputs": [],
   "source": [
    "from binance import Client\n",
    "import pandas as pd"
   ]
  },
  {
   "cell_type": "code",
   "execution_count": 2,
   "id": "a286ab5c",
   "metadata": {},
   "outputs": [],
   "source": [
    "client = Client()\n",
    "\n",
    "def get_daily_data(symbol):\n",
    "    \n",
    "    # 1d : daily cryptocurrency price\n",
    "    data = pd.DataFrame(client.get_historical_klines(symbol, '1d', '3 years ago UTC'))\n",
    "    \n",
    "    # Timestamp and close price.\n",
    "    data = data[[0, 4]]\n",
    "    \n",
    "    data.columns = ['Date', symbol]\n",
    "    \n",
    "    data = data.set_index('Date')\n",
    "    \n",
    "    data.index = pd.to_datetime(data.index, unit = 'ms')\n",
    "    \n",
    "    data = data.astype(float)\n",
    "    \n",
    "    return data\n"
   ]
  },
  {
   "cell_type": "code",
   "execution_count": 4,
   "id": "93c4b6e3",
   "metadata": {},
   "outputs": [],
   "source": [
    "def to_CSV(data, filename = None):\n",
    "    \n",
    "    csv_filename = filename\n",
    "    \n",
    "    data.to_csv(csv_filename,)\n",
    "    \n",
    "    return \"Saved to {}.\".format(csv_filename)"
   ]
  },
  {
   "cell_type": "code",
   "execution_count": 5,
   "id": "076883e1",
   "metadata": {},
   "outputs": [
    {
     "data": {
      "text/plain": [
       "'Saved to cryptocurrencies_historical_data.csv.'"
      ]
     },
     "execution_count": 5,
     "metadata": {},
     "output_type": "execute_result"
    }
   ],
   "source": [
    "cryptocurrency_symbols = [\"BTCUSDT\", \"ETHUSDT\", \"XRPUSDT\", \"DOGEUSDT\", \"LTCUSDT\", \"ADAUSDT\"]\n",
    "\n",
    "\n",
    "# get the cryptocurrencies datasets in a list.\n",
    "prices = [get_daily_data(symbol) for symbol in cryptocurrency_symbols]\n",
    "\n",
    "# concatenate the dataframes in list.\n",
    "cryptos = pd.concat(prices, axis = 1)\n",
    "\n",
    "# Convert to .csv file\n",
    "to_CSV(cryptos, \"cryptocurrencies_historical_data.csv\")"
   ]
  },
  {
   "cell_type": "code",
   "execution_count": null,
   "id": "4cedb65e",
   "metadata": {},
   "outputs": [],
   "source": []
  },
  {
   "cell_type": "code",
   "execution_count": null,
   "id": "3fe1110e",
   "metadata": {},
   "outputs": [],
   "source": []
  }
 ],
 "metadata": {
  "kernelspec": {
   "display_name": "Python 3 (ipykernel)",
   "language": "python",
   "name": "python3"
  },
  "language_info": {
   "codemirror_mode": {
    "name": "ipython",
    "version": 3
   },
   "file_extension": ".py",
   "mimetype": "text/x-python",
   "name": "python",
   "nbconvert_exporter": "python",
   "pygments_lexer": "ipython3",
   "version": "3.9.13"
  }
 },
 "nbformat": 4,
 "nbformat_minor": 5
}
