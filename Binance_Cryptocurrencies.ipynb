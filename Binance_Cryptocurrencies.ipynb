{
 "cells": [
  {
   "cell_type": "code",
   "execution_count": 1,
   "id": "dfc99973",
   "metadata": {},
   "outputs": [],
   "source": [
    "from binance import Client\n",
    "import pandas as pd"
   ]
  },
  {
   "cell_type": "code",
   "execution_count": 2,
   "id": "ac51d94b",
   "metadata": {},
   "outputs": [],
   "source": [
    "client = Client()\n",
    "\n",
    "def get_daily_data(symbol):\n",
    "    # 1d: daily cryptocurrency price\n",
    "    data = pd.DataFrame(client.get_historical_klines(symbol, '1d', '3 years ago UTC'))\n",
    "    \n",
    "    # Select relevant columns\n",
    "    data = data.iloc[:, [0, 1, 2, 3, 4, 5]]\n",
    "    \n",
    "    # Rename columns\n",
    "    data.columns = ['Timestamp', 'Open', 'High', 'Low', 'Close', 'Volume']\n",
    "    \n",
    "    # Convert timestamp to datetime\n",
    "    data['Timestamp'] = pd.to_datetime(data['Timestamp'], unit='ms')\n",
    "    \n",
    "    # Set timestamp as index\n",
    "    data.set_index('Timestamp', inplace=True)\n",
    "    \n",
    "    # Convert columns to numeric\n",
    "    data = data.astype(float)\n",
    "    \n",
    "    return data\n",
    "\n",
    "\n",
    "def to_CSV(data, filename=None):\n",
    "    csv_filename = filename\n",
    "    data.to_csv(csv_filename)\n",
    "    return \"Saved to {}.\".format(csv_filename)"
   ]
  },
  {
   "cell_type": "code",
   "execution_count": 3,
   "id": "597922d3",
   "metadata": {},
   "outputs": [],
   "source": [
    "# \"BTCUSDT\", \"ETHUSDT\", \"XRPUSDT\", \"DOGEUSDT\", \"LTCUSDT\", \"ADAUSDT\"\n",
    "bitcoin = get_daily_data(\"BTCUSDT\")\n",
    "ethereum = get_daily_data(\"ETHUSDT\")\n",
    "ripple = get_daily_data(\"XRPUSDT\")\n",
    "dogecoin = get_daily_data(\"DOGEUSDT\")\n",
    "litecoin = get_daily_data(\"LTCUSDT\")\n",
    "adacoin = get_daily_data(\"ADAUSDT\")"
   ]
  },
  {
   "cell_type": "code",
   "execution_count": 6,
   "id": "61607432",
   "metadata": {},
   "outputs": [],
   "source": [
    "crypto_symbols = [\"BTCUSDT\", \"ETHUSDT\", \"XRPUSDT\", \"DOGEUSDT\", \"LTCUSDT\", \"ADAUSDT\"]\n",
    "\n",
    "data_list = [bitcoin, ethereum, ripple, dogecoin, litecoin, adacoin]\n",
    "\n",
    "for i in range(len(crypto_symbols)):\n",
    "    to_CSV(data_list[i], filename = crypto_symbols[i])"
   ]
  },
  {
   "cell_type": "code",
   "execution_count": null,
   "id": "9fdcdaa9",
   "metadata": {},
   "outputs": [],
   "source": []
  }
 ],
 "metadata": {
  "kernelspec": {
   "display_name": "Python 3 (ipykernel)",
   "language": "python",
   "name": "python3"
  },
  "language_info": {
   "codemirror_mode": {
    "name": "ipython",
    "version": 3
   },
   "file_extension": ".py",
   "mimetype": "text/x-python",
   "name": "python",
   "nbconvert_exporter": "python",
   "pygments_lexer": "ipython3",
   "version": "3.9.13"
  }
 },
 "nbformat": 4,
 "nbformat_minor": 5
}
