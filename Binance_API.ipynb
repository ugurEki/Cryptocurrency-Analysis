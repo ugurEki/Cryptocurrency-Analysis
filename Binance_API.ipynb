{
 "cells": [
  {
   "cell_type": "code",
   "execution_count": 1,
   "id": "2c010c64",
   "metadata": {},
   "outputs": [],
   "source": [
    "from binance.client import Client\n",
    "from datetime import datetime, timedelta\n",
    "import pandas as pd"
   ]
  },
  {
   "cell_type": "code",
   "execution_count": 2,
   "id": "a286ab5c",
   "metadata": {},
   "outputs": [],
   "source": [
    "# Binance API credentials\n",
    "\n",
    "api_key = \"0SqmiO5iYxQ7iLEUByTFiurFjRUcW0Pn50YecCRXX45mAwYSRVxyUrn7ruHrqvT2\"\n",
    "\n",
    "api_secret = \"welXwJmI748JdCMXQN0TxQ6vqMzhqkEQjEJMQW9vuAj3W9xHKm6Hb48tWwyZ1Bj3\"\n",
    "\n",
    "# Create a Binace client\n",
    "\n",
    "client = Client(api_key, api_secret)\n",
    "\n",
    "interval = Client.KLINE_INTERVAL_1DAY  # Daily data"
   ]
  },
  {
   "cell_type": "code",
   "execution_count": 3,
   "id": "076883e1",
   "metadata": {},
   "outputs": [],
   "source": [
    "def get_coin(coin_symbol = None):\n",
    "    \n",
    "    # Retrieve the historical data for each symbol\n",
    "    klines = client.futures_klines(symbol = coin_symbol, interval = interval)\n",
    "    \n",
    "    # Extract the required information\n",
    "    data = []\n",
    "    for kline in klines:\n",
    "        timestamp = kline[0] / 1000  # Convert timestamp to seconds\n",
    "        date = datetime.fromtimestamp(timestamp).strftime(\"%Y-%m-%d\")\n",
    "        opening_price = float(kline[1])\n",
    "        high_price = float(kline[2])\n",
    "        low_price = float(kline[3])\n",
    "        closing_price = float(kline[4])\n",
    "        trading_volume = float(kline[5])\n",
    "        data.append((date, opening_price, high_price, low_price, closing_price, trading_volume))\n",
    "        \n",
    "    return data\n",
    "\n",
    "def to_DataFrame(data):\n",
    "    \n",
    "    new_data = pd.DataFrame(data, columns = [\"Date\", \"Opening Price\", \"High Price\", \"Low Price\", \"Closing Price\", \"Trading Volume\"])\n",
    "    \n",
    "    return new_data"
   ]
  },
  {
   "cell_type": "code",
   "execution_count": 4,
   "id": "44ee606c",
   "metadata": {},
   "outputs": [],
   "source": [
    "# coins : \"ETHUSDT\", \"XRPUSDT\", \"DOGEUSDT\", \"LTCUSDT\", \"ADAUSDT\", \"SOLUSDT\"\n",
    "\n",
    "bitcoin = to_DataFrame(get_coin(coin_symbol = \"BTCUSDT\"))\n",
    "etherium = to_DataFrame(get_coin(coin_symbol = \"ETHUSDT\"))\n",
    "ripple = to_DataFrame(get_coin(coin_symbol = \"XRPUSDT\"))\n",
    "dogecoin = to_DataFrame(get_coin(coin_symbol = \"DOGEUSDT\"))\n",
    "litecoin = to_DataFrame(get_coin(coin_symbol = \"LTCUSDT\"))\n",
    "adacoin = to_DataFrame(get_coin(coin_symbol = \"ADAUSDT\"))\n",
    "solana  = to_DataFrame(get_coin(coin_symbol = \"SOLUSDT\"))"
   ]
  },
  {
   "cell_type": "code",
   "execution_count": 5,
   "id": "2e81fb70",
   "metadata": {},
   "outputs": [
    {
     "name": "stdout",
     "output_type": "stream",
     "text": [
      "500\n",
      "500\n",
      "500\n",
      "500\n",
      "500\n",
      "500\n",
      "500\n"
     ]
    }
   ],
   "source": [
    "coins = [bitcoin, etherium, ripple, dogecoin, litecoin, adacoin, solana]\n",
    "\n",
    "for coin in coins:\n",
    "    print(len(coin))"
   ]
  },
  {
   "cell_type": "code",
   "execution_count": 6,
   "id": "93c4b6e3",
   "metadata": {},
   "outputs": [],
   "source": [
    "def to_CSV(data, filename = None):\n",
    "    \n",
    "    csv_filename = filename\n",
    "    \n",
    "    data.to_csv(csv_filename, index = False)\n",
    "    \n",
    "    return \"Saved to {}.\".format(csv_filename)"
   ]
  },
  {
   "cell_type": "code",
   "execution_count": 7,
   "id": "8e3bd334",
   "metadata": {},
   "outputs": [],
   "source": [
    "coins = [bitcoin, etherium, ripple, dogecoin, litecoin, adacoin, solana]\n",
    "\n",
    "csv_names = [\"bitcoin\", \"etherium\", \"ripple\", \"dogecoin\", \"litecoin\", \"adacoin\", \"solana\"]\n",
    "\n",
    "for c in range(0, 7):\n",
    "    \n",
    "    to_CSV(coins[c], csv_names[c])"
   ]
  }
 ],
 "metadata": {
  "kernelspec": {
   "display_name": "Python 3 (ipykernel)",
   "language": "python",
   "name": "python3"
  },
  "language_info": {
   "codemirror_mode": {
    "name": "ipython",
    "version": 3
   },
   "file_extension": ".py",
   "mimetype": "text/x-python",
   "name": "python",
   "nbconvert_exporter": "python",
   "pygments_lexer": "ipython3",
   "version": "3.9.13"
  }
 },
 "nbformat": 4,
 "nbformat_minor": 5
}
